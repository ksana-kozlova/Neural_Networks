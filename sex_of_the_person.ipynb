{
 "cells": [
  {
   "cell_type": "markdown",
   "metadata": {},
   "source": [
    "# <center> Determining a person’s sex by height and weight</center>\n",
    "#  <center>With help of neural networks</center>"
   ]
  },
  {
   "cell_type": "code",
   "execution_count": 98,
   "metadata": {},
   "outputs": [],
   "source": [
    "import numpy as np \n",
    "import matplotlib.pyplot as plt\n",
    "from sklearn import preprocessing\n",
    "import pandas as pd\n",
    "import seaborn as sns\n",
    "from sklearn.model_selection import train_test_split\n",
    "from sklearn.metrics import mean_absolute_error"
   ]
  },
  {
   "cell_type": "markdown",
   "metadata": {},
   "source": [
    "### - Data"
   ]
  },
  {
   "cell_type": "code",
   "execution_count": 99,
   "metadata": {},
   "outputs": [
    {
     "data": {
      "text/html": [
       "<div>\n",
       "<style scoped>\n",
       "    .dataframe tbody tr th:only-of-type {\n",
       "        vertical-align: middle;\n",
       "    }\n",
       "\n",
       "    .dataframe tbody tr th {\n",
       "        vertical-align: top;\n",
       "    }\n",
       "\n",
       "    .dataframe thead th {\n",
       "        text-align: right;\n",
       "    }\n",
       "</style>\n",
       "<table border=\"1\" class=\"dataframe\">\n",
       "  <thead>\n",
       "    <tr style=\"text-align: right;\">\n",
       "      <th></th>\n",
       "      <th>Weight</th>\n",
       "      <th>Height</th>\n",
       "      <th>Sex</th>\n",
       "    </tr>\n",
       "  </thead>\n",
       "  <tbody>\n",
       "    <tr>\n",
       "      <th>0</th>\n",
       "      <td>80.0</td>\n",
       "      <td>185.0</td>\n",
       "      <td>0</td>\n",
       "    </tr>\n",
       "    <tr>\n",
       "      <th>1</th>\n",
       "      <td>53.0</td>\n",
       "      <td>168.0</td>\n",
       "      <td>1</td>\n",
       "    </tr>\n",
       "    <tr>\n",
       "      <th>2</th>\n",
       "      <td>55.0</td>\n",
       "      <td>169.0</td>\n",
       "      <td>1</td>\n",
       "    </tr>\n",
       "    <tr>\n",
       "      <th>3</th>\n",
       "      <td>73.0</td>\n",
       "      <td>194.0</td>\n",
       "      <td>0</td>\n",
       "    </tr>\n",
       "    <tr>\n",
       "      <th>4</th>\n",
       "      <td>76.0</td>\n",
       "      <td>180.0</td>\n",
       "      <td>0</td>\n",
       "    </tr>\n",
       "    <tr>\n",
       "      <th>5</th>\n",
       "      <td>60.0</td>\n",
       "      <td>165.0</td>\n",
       "      <td>1</td>\n",
       "    </tr>\n",
       "    <tr>\n",
       "      <th>6</th>\n",
       "      <td>80.0</td>\n",
       "      <td>185.0</td>\n",
       "      <td>0</td>\n",
       "    </tr>\n",
       "    <tr>\n",
       "      <th>7</th>\n",
       "      <td>60.0</td>\n",
       "      <td>167.0</td>\n",
       "      <td>1</td>\n",
       "    </tr>\n",
       "  </tbody>\n",
       "</table>\n",
       "</div>"
      ],
      "text/plain": [
       "   Weight  Height  Sex\n",
       "0    80.0   185.0    0\n",
       "1    53.0   168.0    1\n",
       "2    55.0   169.0    1\n",
       "3    73.0   194.0    0\n",
       "4    76.0   180.0    0\n",
       "5    60.0   165.0    1\n",
       "6    80.0   185.0    0\n",
       "7    60.0   167.0    1"
      ]
     },
     "execution_count": 99,
     "metadata": {},
     "output_type": "execute_result"
    }
   ],
   "source": [
    "data = {'Weight':[80.0, 53.0, 55.0, 73.0, 76.0, 60.0, 80.0, 60.0],\n",
    "        'Height':[ 185.0, 168.0, 169.0, 194.0, 180.0, 165.0, 185.0, 167.0],\n",
    "        'Sex':[0, 1, 1, 0, 0, 1, 0, 1]}\n",
    "\n",
    "data = pd.DataFrame(data)\n",
    "data.shape\n",
    "data.head(data.shape[0])"
   ]
  },
  {
   "cell_type": "code",
   "execution_count": null,
   "metadata": {},
   "outputs": [],
   "source": []
  },
  {
   "cell_type": "code",
   "execution_count": 100,
   "metadata": {},
   "outputs": [
    {
     "name": "stdout",
     "output_type": "stream",
     "text": [
      "[[ 0.32  0.95]\n",
      " [ 0.82  0.57]\n",
      " [ 0.91  0.41]\n",
      " [-0.54 -0.84]\n",
      " [-0.61 -0.79]]\n",
      "3    0\n",
      "0    0\n",
      "4    0\n",
      "5    1\n",
      "7    1\n",
      "Name: Sex, dtype: int64\n"
     ]
    }
   ],
   "source": [
    "features = ['Weight', 'Height']\n",
    "for feature in features:\n",
    "    data[feature]=data[feature].fillna(data[feature].mean())\n",
    "X = data[features]\n",
    "y = data['Sex']\n",
    "mean = np.mean(X, axis = 0)\n",
    "mean = np.array(list(map(int, mean)))\n",
    "#print(\"Array of medium:\\n\", mean)\n",
    "X_mean = X - mean\n",
    "normalized_X = preprocessing.normalize(X_mean)\n",
    "\n",
    "X_train, X_test, y_train, y_test = train_test_split(normalized_X, y, test_size = 0.3, random_state = 1337)\n",
    "print(X_train)\n",
    "print(y_train)"
   ]
  },
  {
   "cell_type": "code",
   "execution_count": 101,
   "metadata": {
    "scrolled": false
   },
   "outputs": [
    {
     "data": {
      "image/png": "[encoded data removed]",
      "text/plain": [
       "<Figure size 1440x504 with 2 Axes>"
      ]
     },
     "metadata": {
      "needs_background": "light"
     },
     "output_type": "display_data"
    },
    {
     "data": {
      "image/png": "[encoded data removed]",
      "text/plain": [
       "<Figure size 1152x432 with 2 Axes>"
      ]
     },
     "metadata": {
      "needs_background": "light"
     },
     "output_type": "display_data"
    }
   ],
   "source": [
    "\n",
    "        \n",
    "fig, ax = plt.subplots(\n",
    "    nrows=1, ncols=2,\n",
    "    figsize=(20, 7)\n",
    ")\n",
    "gr = ['Weight', 'Height']\n",
    "for i in range(2):\n",
    "    sns.distplot(data[data['Sex']== 1][gr[i]],ax=ax[i])\n",
    "    sns.distplot(data[data['Sex']== 0][gr[i]],ax=ax[i])\n",
    "    ax[i].set_title(gr[i])\n",
    "   # ax[i].set_xlabel('Mark')\n",
    "    ax[i].legend(('Women','Men'))\n",
    "\n",
    "fig2, axb = plt.subplots(nrows=1,ncols=2,figsize=(16,6))\n",
    "sex = [1, 0]\n",
    "sex_name = ['Women', 'Men']\n",
    "param = ['Weight', 'Height']\n",
    "for i in range(2):\n",
    "    sns.boxplot(data = [data[param[i]][data['Sex']==sex[0]],data[param[i]][data['Sex']==sex[1]]],ax=axb[i],palette=\"cubehelix\")\n",
    "    axb[i].set_title(param[i])\n",
    "    axb[i].set_xticklabels(sex_name)"
   ]
  },
  {
   "cell_type": "markdown",
   "metadata": {},
   "source": [
    "### - Correlation"
   ]
  },
  {
   "cell_type": "code",
   "execution_count": 102,
   "metadata": {
    "scrolled": true
   },
   "outputs": [
    {
     "data": {
      "text/plain": [
       "<matplotlib.axes._subplots.AxesSubplot at 0x1cfad850>"
      ]
     },
     "execution_count": 102,
     "metadata": {},
     "output_type": "execute_result"
    },
    {
     "data": {
      "image/png": "[encoded data removed]",
      "text/plain": [
       "<Figure size 792x648 with 2 Axes>"
      ]
     },
     "metadata": {
      "needs_background": "light"
     },
     "output_type": "display_data"
    }
   ],
   "source": [
    "cols = ['Weight', 'Height']\n",
    "fig, ax = plt.subplots(figsize=(11, 9))\n",
    "data_correl = data[cols].corr()\n",
    "sns.heatmap(data_correl, vmax=1, center=0, vmin=-1,\n",
    "            square=True, linewidths=.5)"
   ]
  },
  {
   "cell_type": "markdown",
   "metadata": {},
   "source": [
    "### - Neural network"
   ]
  },
  {
   "cell_type": "code",
   "execution_count": 103,
   "metadata": {},
   "outputs": [],
   "source": [
    "\n",
    "# Define useful functions    \n",
    "\n",
    "# Activation function\n",
    "def sigmoid(t):\n",
    "    return 1/(1+np.exp(-t))\n",
    "\n",
    "# Derivative of sigmoid11\n",
    "def sigmoid_derivative(p):\n",
    "    return p * (1 - p)\n",
    "\n",
    "# Class definition\n",
    "class NeuralNetwork:\n",
    "    def __init__(self, x,y):\n",
    "        self.input = np.array(x)\n",
    "        self.weights1= np.random.rand(self.input.shape[1],4) # considering we have 4 nodes in the hidden layer\n",
    "        self.weights2 = np.random.rand(4,3)\n",
    "        self.weights3 = np.random.rand(3,1)\n",
    "        self.b1 = np.zeros((self.input.shape[0], 1)) \n",
    "        self.b2 = np.zeros((self.input.shape[0], 1)) \n",
    "        self.b3 = 0\n",
    "        self.y = np.array(y)\n",
    "        self.y.resize(self.y.shape[0], 1)\n",
    "        self.output = np.zeros(y.shape)\n",
    "        \n",
    "    def feedforward(self):\n",
    "        self.layer1 = sigmoid(np.dot(self.input, self.weights1) + self.b1)\n",
    "        self.layer2 = sigmoid(np.dot(self.layer1, self.weights2) + self.b2)\n",
    "        self.layer3 = sigmoid(np.dot(self.layer2, self.weights3) + self.b3)\n",
    "        return self.layer3\n",
    "    \n",
    "    def result(self, x):\n",
    "        layer1 = sigmoid(np.dot(x, self.weights1))\n",
    "        layer2 = sigmoid(np.dot(layer1, self.weights2))\n",
    "        layer3 = sigmoid(np.dot(layer2, self.weights3))\n",
    "        return layer3\n",
    "        \n",
    "    def backprop(self):\n",
    "        d_weights3_prep = (self.y -self.output)*sigmoid_derivative(self.output)\n",
    "        d_weights3 = np.dot(self.layer2.T, d_weights3_prep)\n",
    "        d_weights2_prep = np.dot(d_weights3_prep, self.weights3.T)*sigmoid_derivative(self.layer2)\n",
    "        d_weights2 = np.dot(self.layer1.T, d_weights2_prep)\n",
    "        d_weights1_prep = np.dot(d_weights2_prep, self.weights2.T)*sigmoid_derivative(self.layer1)\n",
    "        d_weights1 = np.dot(self.input.T, d_weights1_prep)\n",
    "        \n",
    "        self.weights1 += d_weights1\n",
    "        self.weights2 += d_weights2\n",
    "        self.weights3 += d_weights3\n",
    "        \n",
    "        \n",
    "\n",
    "    def train(self, X, y):\n",
    "        self.output = self.feedforward()\n",
    "        self.backprop()\n",
    "      \n"
   ]
  },
  {
   "cell_type": "markdown",
   "metadata": {},
   "source": [
    "### - Neural network training normalized data"
   ]
  },
  {
   "cell_type": "code",
   "execution_count": 104,
   "metadata": {},
   "outputs": [
    {
     "name": "stdout",
     "output_type": "stream",
     "text": [
      "for iteration # 0\n",
      "\n",
      "Input : \n",
      "[[ 0.32  0.95]\n",
      " [ 0.82  0.57]\n",
      " [ 0.91  0.41]\n",
      " [-0.54 -0.84]\n",
      " [-0.61 -0.79]]\n",
      "Actual Output: \n",
      "3    0\n",
      "0    0\n",
      "4    0\n",
      "5    1\n",
      "7    1\n",
      "Name: Sex, dtype: int64\n",
      "Predicted Output: \n",
      "[[0.79]\n",
      " [0.79]\n",
      " [0.79]\n",
      " [0.76]\n",
      " [0.76]]\n",
      "Loss: \n",
      "0.39657811895494366\n",
      "\n",
      "\n",
      "for iteration # 100\n",
      "\n",
      "Input : \n",
      "[[ 0.32  0.95]\n",
      " [ 0.82  0.57]\n",
      " [ 0.91  0.41]\n",
      " [-0.54 -0.84]\n",
      " [-0.61 -0.79]]\n",
      "Actual Output: \n",
      "3    0\n",
      "0    0\n",
      "4    0\n",
      "5    1\n",
      "7    1\n",
      "Name: Sex, dtype: int64\n",
      "Predicted Output: \n",
      "[[0.09]\n",
      " [0.08]\n",
      " [0.08]\n",
      " [0.89]\n",
      " [0.89]]\n",
      "Loss: \n",
      "0.008718585015336953\n",
      "\n",
      "\n",
      "for iteration # 200\n",
      "\n",
      "Input : \n",
      "[[ 0.32  0.95]\n",
      " [ 0.82  0.57]\n",
      " [ 0.91  0.41]\n",
      " [-0.54 -0.84]\n",
      " [-0.61 -0.79]]\n",
      "Actual Output: \n",
      "3    0\n",
      "0    0\n",
      "4    0\n",
      "5    1\n",
      "7    1\n",
      "Name: Sex, dtype: int64\n",
      "Predicted Output: \n",
      "[[0.04]\n",
      " [0.04]\n",
      " [0.04]\n",
      " [0.95]\n",
      " [0.95]]\n",
      "Loss: \n",
      "0.0019338745229370573\n",
      "\n",
      "\n",
      "for iteration # 300\n",
      "\n",
      "Input : \n",
      "[[ 0.32  0.95]\n",
      " [ 0.82  0.57]\n",
      " [ 0.91  0.41]\n",
      " [-0.54 -0.84]\n",
      " [-0.61 -0.79]]\n",
      "Actual Output: \n",
      "3    0\n",
      "0    0\n",
      "4    0\n",
      "5    1\n",
      "7    1\n",
      "Name: Sex, dtype: int64\n",
      "Predicted Output: \n",
      "[[0.03]\n",
      " [0.03]\n",
      " [0.03]\n",
      " [0.96]\n",
      " [0.96]]\n",
      "Loss: \n",
      "0.0010191768654490715\n",
      "\n",
      "\n",
      "for iteration # 400\n",
      "\n",
      "Input : \n",
      "[[ 0.32  0.95]\n",
      " [ 0.82  0.57]\n",
      " [ 0.91  0.41]\n",
      " [-0.54 -0.84]\n",
      " [-0.61 -0.79]]\n",
      "Actual Output: \n",
      "3    0\n",
      "0    0\n",
      "4    0\n",
      "5    1\n",
      "7    1\n",
      "Name: Sex, dtype: int64\n",
      "Predicted Output: \n",
      "[[0.02]\n",
      " [0.02]\n",
      " [0.02]\n",
      " [0.97]\n",
      " [0.97]]\n",
      "Loss: \n",
      "0.0006778884606929673\n",
      "\n",
      "\n",
      "for iteration # 500\n",
      "\n",
      "Input : \n",
      "[[ 0.32  0.95]\n",
      " [ 0.82  0.57]\n",
      " [ 0.91  0.41]\n",
      " [-0.54 -0.84]\n",
      " [-0.61 -0.79]]\n",
      "Actual Output: \n",
      "3    0\n",
      "0    0\n",
      "4    0\n",
      "5    1\n",
      "7    1\n",
      "Name: Sex, dtype: int64\n",
      "Predicted Output: \n",
      "[[0.02]\n",
      " [0.02]\n",
      " [0.02]\n",
      " [0.97]\n",
      " [0.97]]\n",
      "Loss: \n",
      "0.0005028478685336548\n",
      "\n",
      "\n",
      "for iteration # 600\n",
      "\n",
      "Input : \n",
      "[[ 0.32  0.95]\n",
      " [ 0.82  0.57]\n",
      " [ 0.91  0.41]\n",
      " [-0.54 -0.84]\n",
      " [-0.61 -0.79]]\n",
      "Actual Output: \n",
      "3    0\n",
      "0    0\n",
      "4    0\n",
      "5    1\n",
      "7    1\n",
      "Name: Sex, dtype: int64\n",
      "Predicted Output: \n",
      "[[0.02]\n",
      " [0.02]\n",
      " [0.02]\n",
      " [0.98]\n",
      " [0.98]]\n",
      "Loss: \n",
      "0.00039738137697232216\n",
      "\n",
      "\n",
      "for iteration # 700\n",
      "\n",
      "Input : \n",
      "[[ 0.32  0.95]\n",
      " [ 0.82  0.57]\n",
      " [ 0.91  0.41]\n",
      " [-0.54 -0.84]\n",
      " [-0.61 -0.79]]\n",
      "Actual Output: \n",
      "3    0\n",
      "0    0\n",
      "4    0\n",
      "5    1\n",
      "7    1\n",
      "Name: Sex, dtype: int64\n",
      "Predicted Output: \n",
      "[[0.02]\n",
      " [0.02]\n",
      " [0.02]\n",
      " [0.98]\n",
      " [0.98]]\n",
      "Loss: \n",
      "0.0003272850739513633\n",
      "\n",
      "\n",
      "for iteration # 800\n",
      "\n",
      "Input : \n",
      "[[ 0.32  0.95]\n",
      " [ 0.82  0.57]\n",
      " [ 0.91  0.41]\n",
      " [-0.54 -0.84]\n",
      " [-0.61 -0.79]]\n",
      "Actual Output: \n",
      "3    0\n",
      "0    0\n",
      "4    0\n",
      "5    1\n",
      "7    1\n",
      "Name: Sex, dtype: int64\n",
      "Predicted Output: \n",
      "[[0.02]\n",
      " [0.01]\n",
      " [0.02]\n",
      " [0.98]\n",
      " [0.98]]\n",
      "Loss: \n",
      "0.00027750847775674073\n",
      "\n",
      "\n",
      "for iteration # 900\n",
      "\n",
      "Input : \n",
      "[[ 0.32  0.95]\n",
      " [ 0.82  0.57]\n",
      " [ 0.91  0.41]\n",
      " [-0.54 -0.84]\n",
      " [-0.61 -0.79]]\n",
      "Actual Output: \n",
      "3    0\n",
      "0    0\n",
      "4    0\n",
      "5    1\n",
      "7    1\n",
      "Name: Sex, dtype: int64\n",
      "Predicted Output: \n",
      "[[0.01]\n",
      " [0.01]\n",
      " [0.01]\n",
      " [0.98]\n",
      " [0.98]]\n",
      "Loss: \n",
      "0.0002404330808026093\n",
      "\n",
      "\n",
      "for iteration # 1000\n",
      "\n",
      "Input : \n",
      "[[ 0.32  0.95]\n",
      " [ 0.82  0.57]\n",
      " [ 0.91  0.41]\n",
      " [-0.54 -0.84]\n",
      " [-0.61 -0.79]]\n",
      "Actual Output: \n",
      "3    0\n",
      "0    0\n",
      "4    0\n",
      "5    1\n",
      "7    1\n",
      "Name: Sex, dtype: int64\n",
      "Predicted Output: \n",
      "[[0.01]\n",
      " [0.01]\n",
      " [0.01]\n",
      " [0.98]\n",
      " [0.98]]\n",
      "Loss: \n",
      "0.0002118038259503416\n",
      "\n",
      "\n",
      "for iteration # 1100\n",
      "\n",
      "Input : \n",
      "[[ 0.32  0.95]\n",
      " [ 0.82  0.57]\n",
      " [ 0.91  0.41]\n",
      " [-0.54 -0.84]\n",
      " [-0.61 -0.79]]\n",
      "Actual Output: \n",
      "3    0\n",
      "0    0\n",
      "4    0\n",
      "5    1\n",
      "7    1\n",
      "Name: Sex, dtype: int64\n",
      "Predicted Output: \n",
      "[[0.01]\n",
      " [0.01]\n",
      " [0.01]\n",
      " [0.98]\n",
      " [0.98]]\n",
      "Loss: \n",
      "0.00018906390053233956\n",
      "\n",
      "\n",
      "for iteration # 1200\n",
      "\n",
      "Input : \n",
      "[[ 0.32  0.95]\n",
      " [ 0.82  0.57]\n",
      " [ 0.91  0.41]\n",
      " [-0.54 -0.84]\n",
      " [-0.61 -0.79]]\n",
      "Actual Output: \n",
      "3    0\n",
      "0    0\n",
      "4    0\n",
      "5    1\n",
      "7    1\n",
      "Name: Sex, dtype: int64\n",
      "Predicted Output: \n",
      "[[0.01]\n",
      " [0.01]\n",
      " [0.01]\n",
      " [0.99]\n",
      " [0.99]]\n",
      "Loss: \n",
      "0.00017058745519549977\n",
      "\n",
      "\n",
      "for iteration # 1300\n",
      "\n",
      "Input : \n",
      "[[ 0.32  0.95]\n",
      " [ 0.82  0.57]\n",
      " [ 0.91  0.41]\n",
      " [-0.54 -0.84]\n",
      " [-0.61 -0.79]]\n",
      "Actual Output: \n",
      "3    0\n",
      "0    0\n",
      "4    0\n",
      "5    1\n",
      "7    1\n",
      "Name: Sex, dtype: int64\n",
      "Predicted Output: \n",
      "[[0.01]\n",
      " [0.01]\n",
      " [0.01]\n",
      " [0.99]\n",
      " [0.99]]\n",
      "Loss: \n",
      "0.00015529284356217884\n",
      "\n",
      "\n",
      "for iteration # 1400\n",
      "\n",
      "Input : \n",
      "[[ 0.32  0.95]\n",
      " [ 0.82  0.57]\n",
      " [ 0.91  0.41]\n",
      " [-0.54 -0.84]\n",
      " [-0.61 -0.79]]\n",
      "Actual Output: \n",
      "3    0\n",
      "0    0\n",
      "4    0\n",
      "5    1\n",
      "7    1\n",
      "Name: Sex, dtype: int64\n",
      "Predicted Output: \n",
      "[[0.01]\n",
      " [0.01]\n",
      " [0.01]\n",
      " [0.99]\n",
      " [0.99]]\n",
      "Loss: \n",
      "0.00014243339776530628\n",
      "\n",
      "\n"
     ]
    }
   ],
   "source": [
    "NN = NeuralNetwork(X_train,y_train)\n",
    "loss = []\n",
    "for i in range(1500): # trains the NN 1,000 times\n",
    "    ff = NN.feedforward()\n",
    "    loss.append(np.mean(np.square(np.array(y_train - np.squeeze(ff)))))\n",
    "    \n",
    "    if i % 100 == 0: \n",
    "        print (\"for iteration # \" + str(i) + \"\\n\")\n",
    "        print (\"Input : \\n\" + str(X_train))\n",
    "        print (\"Actual Output: \\n\" + str(y_train))\n",
    "        print (\"Predicted Output: \\n\" + str(NN.feedforward()))\n",
    "        print (\"Loss: \\n\" + str(loss[-1])) # mean sum squared loss\n",
    "        print (\"\\n\")\n",
    "\n",
    "    NN.train(X_train, y_train)\n",
    "    res = NN.result(X_test)"
   ]
  },
  {
   "cell_type": "markdown",
   "metadata": {},
   "source": [
    "### - Plotting errors"
   ]
  },
  {
   "cell_type": "code",
   "execution_count": 105,
   "metadata": {
    "scrolled": true
   },
   "outputs": [
    {
     "data": {
      "text/plain": [
       "[<matplotlib.lines.Line2D at 0x1c9a6bd0>]"
      ]
     },
     "execution_count": 105,
     "metadata": {},
     "output_type": "execute_result"
    },
    {
     "data": {
      "image/png": "[encoded data removed]",
      "text/plain": [
       "<Figure size 432x288 with 1 Axes>"
      ]
     },
     "metadata": {
      "needs_background": "light"
     },
     "output_type": "display_data"
    }
   ],
   "source": [
    "\n",
    "loss_np = np.array(loss)\n",
    "x_loss = np.arange(0, 1500, 1)\n",
    "plt.grid()\n",
    "plt.plot(x_loss, loss_np, label=\"loss\")"
   ]
  },
  {
   "cell_type": "code",
   "execution_count": 106,
   "metadata": {},
   "outputs": [
    {
     "data": {
      "text/plain": [
       "[0, 1, 1]"
      ]
     },
     "execution_count": 106,
     "metadata": {},
     "output_type": "execute_result"
    }
   ],
   "source": [
    "def convert_back(array):\n",
    "    converted = []\n",
    "    for x in array:\n",
    "        if x >= 0.5:\n",
    "            converted.append(1)\n",
    "        else:\n",
    "            converted.append(0)\n",
    "    return converted\n",
    "convert_back(predict3)"
   ]
  },
  {
   "cell_type": "code",
   "execution_count": 107,
   "metadata": {},
   "outputs": [
    {
     "name": "stderr",
     "output_type": "stream",
     "text": [
      "c:\\users\\оксана\\appdata\\local\\programs\\python\\python37-32\\lib\\site-packages\\sklearn\\ensemble\\forest.py:245: FutureWarning: The default value of n_estimators will change from 10 in version 0.20 to 100 in 0.22.\n",
      "  \"10 in version 0.20 to 100 in 0.22.\", FutureWarning)\n",
      "c:\\users\\оксана\\appdata\\local\\programs\\python\\python37-32\\lib\\site-packages\\sklearn\\svm\\base.py:193: FutureWarning: The default value of gamma will change from 'auto' to 'scale' in version 0.22 to account better for unscaled features. Set gamma explicitly to 'auto' or 'scale' to avoid this warning.\n",
      "  \"avoid this warning.\", FutureWarning)\n"
     ]
    }
   ],
   "source": [
    "from sklearn.ensemble import RandomForestRegressor\n",
    "from sklearn.svm import SVR\n",
    "from sklearn.tree import DecisionTreeRegressor\n",
    "model = DecisionTreeRegressor()\n",
    "model.fit(X_train, y_train)\n",
    "predict = convert_back(model.predict(X_test))\n",
    "\n",
    "model2 = RandomForestRegressor()\n",
    "model2.fit(X_train, y_train)\n",
    "predict2 = convert_back(model2.predict(X_test))\n",
    "\n",
    "model3 = SVR()\n",
    "model3.fit(X_train, y_train)\n",
    "predict3 = convert_back(model3.predict(X_test))\n",
    "\n",
    "\n",
    "#model.score(X_test, y_test)"
   ]
  },
  {
   "cell_type": "code",
   "execution_count": 108,
   "metadata": {
    "scrolled": true
   },
   "outputs": [
    {
     "name": "stdout",
     "output_type": "stream",
     "text": [
      "[0 1 1]\n",
      "[0 1 1]\n",
      "[0 1 1]\n",
      "Confusion matrix, without normalization\n",
      "[[1 0]\n",
      " [0 2]]\n"
     ]
    },
    {
     "data": {
      "image/png": "[encoded data removed]",
      "text/plain": [
       "<Figure size 720x576 with 2 Axes>"
      ]
     },
     "metadata": {
      "needs_background": "light"
     },
     "output_type": "display_data"
    }
   ],
   "source": [
    "\n",
    "\n",
    "from sklearn.metrics import confusion_matrix\n",
    "import itertools\n",
    "# Воспользуемся функцией построения матрицы ошибок из документации sklearn\n",
    "\n",
    "def plot_confusion_matrix(cm, classes,\n",
    "                          normalize=False,\n",
    "                          title='Confusion matrix',\n",
    "                          cmap=plt.cm.Blues):\n",
    "    \"\"\"\n",
    "    This function prints and plots the confusion matrix.\n",
    "    Normalization can be applied by setting `normalize=True`.\n",
    "    \"\"\"\n",
    "    plt.imshow(cm, interpolation='nearest', cmap=cmap)\n",
    "    plt.title(title)\n",
    "    plt.colorbar()\n",
    "    tick_marks = np.arange(len(classes))\n",
    "    plt.xticks(tick_marks, classes, rotation=45)\n",
    "    plt.yticks(tick_marks, classes)\n",
    "\n",
    "    if normalize:\n",
    "        cm = cm.astype('float') / cm.sum(axis=1)[:, np.newaxis]\n",
    "        print(\"Normalized confusion matrix\")\n",
    "    else:\n",
    "        print('Confusion matrix, without normalization')\n",
    "\n",
    "    print(cm)\n",
    "\n",
    "    thresh = cm.max() / 2.\n",
    "    for i, j in itertools.product(range(cm.shape[0]), range(cm.shape[1])):\n",
    "        plt.text(j, i, cm[i, j],\n",
    "                 horizontalalignment=\"center\",\n",
    "                 color=\"white\" if cm[i, j] > thresh else \"black\")\n",
    "\n",
    "    plt.tight_layout()\n",
    "    plt.ylabel('True label')\n",
    "    plt.xlabel('Predicted label')\n",
    "\n",
    "font = {'size' : 15}\n",
    "\n",
    "plt.rc('font', **font)\n",
    "print(np.array(y_test))\n",
    "y_result = []\n",
    "for x in res:\n",
    "    if x > 0.5:\n",
    "        y_result.append(1)\n",
    "    else:\n",
    "        y_result.append(0)  \n",
    "print(np.array(y_test))\n",
    "print(np.array(y_result))\n",
    "cnf_matrix = confusion_matrix(np.array(y_test), np.array(y_result))\n",
    "plt.figure(figsize=(10, 8))\n",
    "plot_confusion_matrix(cnf_matrix, classes=['Man', 'Woman'],\n",
    "                      title='Confusion matrix')\n",
    "plt.savefig(\"conf_matrix.png\")\n",
    "plt.show()"
   ]
  },
  {
   "cell_type": "code",
   "execution_count": 109,
   "metadata": {},
   "outputs": [
    {
     "name": "stdout",
     "output_type": "stream",
     "text": [
      "              precision    recall  f1-score   support\n",
      "\n",
      "         Man       1.00      1.00      1.00         1\n",
      "       Woman       1.00      1.00      1.00         2\n",
      "\n",
      "    accuracy                           1.00         3\n",
      "   macro avg       1.00      1.00      1.00         3\n",
      "weighted avg       1.00      1.00      1.00         3\n",
      "\n"
     ]
    }
   ],
   "source": [
    "from sklearn.metrics import classification_report \n",
    "report = classification_report(y_test, y_result, target_names=['Man', 'Woman'])\n",
    "print(report)"
   ]
  },
  {
   "cell_type": "code",
   "execution_count": 110,
   "metadata": {
    "scrolled": true
   },
   "outputs": [
    {
     "name": "stdout",
     "output_type": "stream",
     "text": [
      "[0.01 0.01 0.01]\n"
     ]
    }
   ],
   "source": [
    "def logloss_crutch(y_true, y_pred, eps=1e-15):\n",
    "\n",
    "    return - (y_true * np.log(y_pred) + (1 - y_true) * np.log(1 - y_pred))\n",
    "print(logloss_crutch(np.array(y_test), np.array(np.squeeze(res))))\n",
    "#print(np.array(y_test))\n",
    "#print( np.array(np.squeeze(res)))"
   ]
  },
  {
   "cell_type": "markdown",
   "metadata": {},
   "source": [
    "### <center>Report on the work of SVR algorithm</center>"
   ]
  },
  {
   "cell_type": "code",
   "execution_count": 111,
   "metadata": {},
   "outputs": [
    {
     "name": "stdout",
     "output_type": "stream",
     "text": [
      "              precision    recall  f1-score   support\n",
      "\n",
      "         Man       1.00      1.00      1.00         1\n",
      "       Woman       1.00      1.00      1.00         2\n",
      "\n",
      "    accuracy                           1.00         3\n",
      "   macro avg       1.00      1.00      1.00         3\n",
      "weighted avg       1.00      1.00      1.00         3\n",
      "\n"
     ]
    }
   ],
   "source": [
    "from sklearn.metrics import classification_report \n",
    "report = classification_report(y_test, predict3, target_names=['Man', 'Woman'])\n",
    "print(report)"
   ]
  },
  {
   "cell_type": "code",
   "execution_count": null,
   "metadata": {},
   "outputs": [],
   "source": []
  }
 ],
 "metadata": {
  "kernelspec": {
   "display_name": "Python 3",
   "language": "python",
   "name": "python3"
  },
  "language_info": {
   "codemirror_mode": {
    "name": "ipython",
    "version": 3
   },
   "file_extension": ".py",
   "mimetype": "text/x-python",
   "name": "python",
   "nbconvert_exporter": "python",
   "pygments_lexer": "ipython3",
   "version": "3.7.4"
  }
 },
 "nbformat": 4,
 "nbformat_minor": 2
}
